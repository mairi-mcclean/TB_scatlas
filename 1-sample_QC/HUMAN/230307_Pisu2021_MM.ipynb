{
 "cells": [
  {
   "attachments": {},
   "cell_type": "markdown",
   "metadata": {},
   "source": [
    "#### Pisu 2021 abridged QC\n",
    "\n",
    "**Objective**: Run QC steps without normalisation/UMAP for Pisu 2021 human BAL control data\n",
    "\n",
    "**Developed by**: Mairi McClean\n",
    "\n",
    "**Affiliation**: Institute of Computational Biology, Helmholtz Zentrum Munich\n",
    "\n",
    "**v230306**"
   ]
  },
  {
   "cell_type": "markdown",
   "metadata": {},
   "source": [
    "### Load modules"
   ]
  },
  {
   "cell_type": "code",
   "execution_count": 14,
   "metadata": {},
   "outputs": [],
   "source": [
    "import anndata\n",
    "import logging\n",
    "import numpy as np\n",
    "import pandas as pd\n",
    "import scanpy as sc\n",
    "import seaborn as sb\n",
    "import scrublet as scr\n",
    "import pyreadr as pyr\n",
    "import pybiomart as biomart\n",
    "import matplotlib.pyplot as plt\n",
    "from matplotlib import colors\n",
    "from matplotlib import rcParams"
   ]
  },
  {
   "cell_type": "markdown",
   "metadata": {},
   "source": [
    "### Log file and figure output settings"
   ]
  },
  {
   "cell_type": "code",
   "execution_count": 3,
   "metadata": {},
   "outputs": [
    {
     "name": "stdout",
     "output_type": "stream",
     "text": [
      "-----\n",
      "anndata     0.8.0\n",
      "scanpy      1.9.2\n",
      "-----\n",
      "PIL                 9.4.0\n",
      "anyio               NA\n",
      "appnope             0.1.3\n",
      "arrow               1.2.3\n",
      "asttokens           NA\n",
      "attr                22.2.0\n",
      "babel               2.12.1\n",
      "backcall            0.2.0\n",
      "beta_ufunc          NA\n",
      "binom_ufunc         NA\n",
      "brotli              NA\n",
      "certifi             2022.12.07\n",
      "cffi                1.15.1\n",
      "charset_normalizer  2.1.1\n",
      "colorama            0.4.6\n",
      "comm                0.1.2\n",
      "cycler              0.10.0\n",
      "cython_runtime      NA\n",
      "dateutil            2.8.2\n",
      "debugpy             1.6.6\n",
      "decorator           5.1.1\n",
      "defusedxml          0.7.1\n",
      "executing           1.2.0\n",
      "fastjsonschema      NA\n",
      "fqdn                NA\n",
      "future              0.18.3\n",
      "h5py                3.8.0\n",
      "hypergeom_ufunc     NA\n",
      "idna                3.4\n",
      "igraph              0.10.4\n",
      "importlib_resources NA\n",
      "ipykernel           6.21.2\n",
      "ipython_genutils    0.2.0\n",
      "isoduration         NA\n",
      "jedi                0.18.2\n",
      "jinja2              3.1.2\n",
      "joblib              1.2.0\n",
      "json5               NA\n",
      "jsonpointer         2.3\n",
      "jsonschema          4.17.3\n",
      "jupyter_events      0.6.3\n",
      "jupyter_server      2.3.0\n",
      "jupyterlab_server   2.19.0\n",
      "kiwisolver          1.4.4\n",
      "leidenalg           0.9.1\n",
      "llvmlite            0.39.1\n",
      "markupsafe          2.1.2\n",
      "matplotlib          3.7.0\n",
      "mpl_toolkits        NA\n",
      "natsort             8.3.1\n",
      "nbformat            5.7.3\n",
      "nbinom_ufunc        NA\n",
      "ncf_ufunc           NA\n",
      "numba               0.56.4\n",
      "numpy               1.23.5\n",
      "packaging           23.0\n",
      "pandas              1.5.3\n",
      "parso               0.8.3\n",
      "pexpect             4.8.0\n",
      "pickleshare         0.7.5\n",
      "pkg_resources       NA\n",
      "platformdirs        3.1.0\n",
      "prometheus_client   NA\n",
      "prompt_toolkit      3.0.38\n",
      "psutil              5.9.4\n",
      "ptyprocess          0.7.0\n",
      "pure_eval           0.2.2\n",
      "pvectorc            NA\n",
      "pybiomart           0.2.0\n",
      "pydev_ipython       NA\n",
      "pydevconsole        NA\n",
      "pydevd              2.9.5\n",
      "pydevd_file_utils   NA\n",
      "pydevd_plugins      NA\n",
      "pydevd_tracing      NA\n",
      "pygments            2.14.0\n",
      "pyparsing           3.0.9\n",
      "pyreadr             0.4.7\n",
      "pyrsistent          NA\n",
      "pythonjsonlogger    NA\n",
      "pytz                2022.7.1\n",
      "requests            2.28.2\n",
      "requests_cache      0.4.13\n",
      "rfc3339_validator   0.1.4\n",
      "rfc3986_validator   0.1.1\n",
      "scipy               1.9.1\n",
      "scrublet            NA\n",
      "seaborn             0.12.2\n",
      "send2trash          NA\n",
      "session_info        1.0.0\n",
      "setuptools          67.5.0\n",
      "six                 1.16.0\n",
      "sklearn             1.2.1\n",
      "sniffio             1.3.0\n",
      "socks               1.7.1\n",
      "stack_data          0.6.2\n",
      "statsmodels         0.13.5\n",
      "texttable           1.6.7\n",
      "threadpoolctl       3.1.0\n",
      "tornado             6.2\n",
      "traitlets           5.9.0\n",
      "typing_extensions   NA\n",
      "unicodedata2        NA\n",
      "uri_template        NA\n",
      "urllib3             1.26.14\n",
      "wcwidth             0.2.6\n",
      "webcolors           1.11.1\n",
      "websocket           1.5.1\n",
      "yaml                6.0\n",
      "zipp                NA\n",
      "zmq                 25.0.0\n",
      "zoneinfo            NA\n",
      "-----\n",
      "IPython             8.11.0\n",
      "jupyter_client      8.0.3\n",
      "jupyter_core        5.2.0\n",
      "jupyterlab          3.6.1\n",
      "notebook            6.5.3\n",
      "-----\n",
      "Python 3.9.16 | packaged by conda-forge | (main, Feb  1 2023, 21:38:11) [Clang 14.0.6 ]\n",
      "macOS-12.5.1-arm64-arm-64bit\n",
      "-----\n",
      "Session information updated at 2023-03-07 09:37\n"
     ]
    }
   ],
   "source": [
    "sc.settings.verbosity = 3\n",
    "sc.logging.print_versions()\n",
    "sc.settings.set_figure_params(dpi = 160, color_map = 'RdPu', dpi_save = 180, vector_friendly = True, format = 'svg')"
   ]
  },
  {
   "cell_type": "markdown",
   "metadata": {},
   "source": [
    "### Read in RDS file"
   ]
  },
  {
   "cell_type": "code",
   "execution_count": 15,
   "metadata": {},
   "outputs": [
    {
     "ename": "LibrdataError",
     "evalue": "The file contains an unrecognized object",
     "output_type": "error",
     "traceback": [
      "\u001b[0;31m---------------------------------------------------------------------------\u001b[0m",
      "\u001b[0;31mLibrdataError\u001b[0m                             Traceback (most recent call last)",
      "Cell \u001b[0;32mIn[15], line 1\u001b[0m\n\u001b[0;32m----> 1\u001b[0m data_file \u001b[39m=\u001b[39m pyr\u001b[39m.\u001b[39;49mpyreadr\u001b[39m.\u001b[39;49mread_r(\u001b[39m'\u001b[39;49m\u001b[39m/Volumes/Lacie/data_lake/Mairi_example/INBOX/sc_downloads/human/BAL/pisu_2021/GEO/GSE167232_bal_integrated.RDS\u001b[39;49m\u001b[39m'\u001b[39;49m)\n\u001b[1;32m      2\u001b[0m df \u001b[39m=\u001b[39m data_file\n",
      "File \u001b[0;32m~/mambaforge/envs/scanpy_local/lib/python3.9/site-packages/pyreadr/pyreadr.py:66\u001b[0m, in \u001b[0;36mread_r\u001b[0;34m(path, use_objects, timezone)\u001b[0m\n\u001b[1;32m     64\u001b[0m \u001b[39mif\u001b[39;00m \u001b[39mnot\u001b[39;00m os\u001b[39m.\u001b[39mpath\u001b[39m.\u001b[39misfile(filename_bytes):\n\u001b[1;32m     65\u001b[0m     \u001b[39mraise\u001b[39;00m PyreadrError(\u001b[39m\"\u001b[39m\u001b[39mFile \u001b[39m\u001b[39m{0}\u001b[39;00m\u001b[39m does not exist!\u001b[39m\u001b[39m\"\u001b[39m\u001b[39m.\u001b[39mformat(filename_bytes))\n\u001b[0;32m---> 66\u001b[0m parser\u001b[39m.\u001b[39;49mparse(filename_bytes)\n\u001b[1;32m     68\u001b[0m result \u001b[39m=\u001b[39m OrderedDict()\n\u001b[1;32m     69\u001b[0m \u001b[39mfor\u001b[39;00m table_index, table \u001b[39min\u001b[39;00m \u001b[39menumerate\u001b[39m(parser\u001b[39m.\u001b[39mtable_data):\n",
      "File \u001b[0;32m~/mambaforge/envs/scanpy_local/lib/python3.9/site-packages/pyreadr/librdata.pyx:148\u001b[0m, in \u001b[0;36mpyreadr.librdata.Parser.parse\u001b[0;34m()\u001b[0m\n",
      "File \u001b[0;32m~/mambaforge/envs/scanpy_local/lib/python3.9/site-packages/pyreadr/librdata.pyx:177\u001b[0m, in \u001b[0;36mpyreadr.librdata.Parser.parse\u001b[0;34m()\u001b[0m\n",
      "\u001b[0;31mLibrdataError\u001b[0m: The file contains an unrecognized object"
     ]
    }
   ],
   "source": [
    "data_file = pyr.pyreadr.read_r('/Volumes/Lacie/data_lake/Mairi_example/INBOX/sc_downloads/human/BAL/pisu_2021/GEO/GSE167232_bal_integrated.RDS')\n",
    "df = data_file\n"
   ]
  },
  {
   "attachments": {},
   "cell_type": "markdown",
   "metadata": {},
   "source": [
    "### Read in CSV file data"
   ]
  },
  {
   "cell_type": "code",
   "execution_count": 7,
   "metadata": {},
   "outputs": [],
   "source": [
    "adata = sc.read_csv('/Volumes/Lacie/data_lake/Mairi_example/INBOX/sc_downloads/human/BAL/pisu_2021/GEO/GSE167232_bal_integrated.csv')"
   ]
  },
  {
   "cell_type": "code",
   "execution_count": 8,
   "metadata": {},
   "outputs": [
    {
     "data": {
      "text/plain": [
       "AnnData object with n_obs × n_vars = 20631 × 10357"
      ]
     },
     "execution_count": 8,
     "metadata": {},
     "output_type": "execute_result"
    }
   ],
   "source": [
    "adata"
   ]
  },
  {
   "cell_type": "code",
   "execution_count": 9,
   "metadata": {},
   "outputs": [
    {
     "data": {
      "text/html": [
       "<div>\n",
       "<style scoped>\n",
       "    .dataframe tbody tr th:only-of-type {\n",
       "        vertical-align: middle;\n",
       "    }\n",
       "\n",
       "    .dataframe tbody tr th {\n",
       "        vertical-align: top;\n",
       "    }\n",
       "\n",
       "    .dataframe thead th {\n",
       "        text-align: right;\n",
       "    }\n",
       "</style>\n",
       "<table border=\"1\" class=\"dataframe\">\n",
       "  <thead>\n",
       "    <tr style=\"text-align: right;\">\n",
       "      <th></th>\n",
       "    </tr>\n",
       "  </thead>\n",
       "  <tbody>\n",
       "    <tr>\n",
       "      <th>OR4F5</th>\n",
       "    </tr>\n",
       "    <tr>\n",
       "      <th>OR4F29</th>\n",
       "    </tr>\n",
       "    <tr>\n",
       "      <th>OR4F16</th>\n",
       "    </tr>\n",
       "    <tr>\n",
       "      <th>SAMD11</th>\n",
       "    </tr>\n",
       "    <tr>\n",
       "      <th>NOC2L</th>\n",
       "    </tr>\n",
       "    <tr>\n",
       "      <th>...</th>\n",
       "    </tr>\n",
       "    <tr>\n",
       "      <th>rev</th>\n",
       "    </tr>\n",
       "    <tr>\n",
       "      <th>vpu</th>\n",
       "    </tr>\n",
       "    <tr>\n",
       "      <th>env</th>\n",
       "    </tr>\n",
       "    <tr>\n",
       "      <th>nef</th>\n",
       "    </tr>\n",
       "    <tr>\n",
       "      <th>3-LTR</th>\n",
       "    </tr>\n",
       "  </tbody>\n",
       "</table>\n",
       "<p>20631 rows × 0 columns</p>\n",
       "</div>"
      ],
      "text/plain": [
       "Empty DataFrame\n",
       "Columns: []\n",
       "Index: [OR4F5, OR4F29, OR4F16, SAMD11, NOC2L, KLHL17, PLEKHN1, PERM1, HES4, ISG15, AGRN, RNF223, C1orf159, TTLL10, TNFRSF18, TNFRSF4, SDF4, B3GALT6, C1QTNF12, UBE2J2, SCNN1D, ACAP3, PUSL1, INTS11, CPTP, TAS1R3, DVL1, MXRA8, AURKAIP1, CCNL2, MRPL20, ANKRD65, TMEM88B, VWA1, ATAD3C, ATAD3B, ATAD3A, TMEM240, SSU72, FNDC10, MIB2, MMP23B, CDK11B, SLC35E2B, CDK11A, SLC35E2A, NADK, GNB1, CALML6, TMEM52, CFAP74, GABRD, PRKCZ, FAAP20, SKI, MORN1, RER1, PEX10, PLCH2, PANK4, HES5, TNFRSF14, PRXL2B, MMEL1, TTC34, ACTRT2, PRDM16, ARHGEF16, MEGF6, TPRG1L, WRAP73, TP73, CCDC27, SMIM1, LRRC47, CEP104, DFFB, C1orf174, AJAP1, NPHP4, KCNAB2, CHD5, AL031847.2, RPL22, RNF207, ICMT, HES3, GPR153, ACOT7, HES2, ESPN, TNFRSF25, PLEKHG5, NOL9, TAS1R1, ZBTB48, KLHL21, PHF13, THAP3, DNAJC11, ...]\n",
       "\n",
       "[20631 rows x 0 columns]"
      ]
     },
     "execution_count": 9,
     "metadata": {},
     "output_type": "execute_result"
    }
   ],
   "source": [
    "# cells\n",
    "adata.obs"
   ]
  },
  {
   "cell_type": "code",
   "execution_count": 10,
   "metadata": {},
   "outputs": [
    {
     "data": {
      "text/html": [
       "<div>\n",
       "<style scoped>\n",
       "    .dataframe tbody tr th:only-of-type {\n",
       "        vertical-align: middle;\n",
       "    }\n",
       "\n",
       "    .dataframe tbody tr th {\n",
       "        vertical-align: top;\n",
       "    }\n",
       "\n",
       "    .dataframe thead th {\n",
       "        text-align: right;\n",
       "    }\n",
       "</style>\n",
       "<table border=\"1\" class=\"dataframe\">\n",
       "  <thead>\n",
       "    <tr style=\"text-align: right;\">\n",
       "      <th></th>\n",
       "    </tr>\n",
       "  </thead>\n",
       "  <tbody>\n",
       "    <tr>\n",
       "      <th>AAACCCAAGTGCACCC_1</th>\n",
       "    </tr>\n",
       "    <tr>\n",
       "      <th>AAACCCAGTGAGCTCC_1</th>\n",
       "    </tr>\n",
       "    <tr>\n",
       "      <th>AAACCCAGTTCTTAGG_1</th>\n",
       "    </tr>\n",
       "    <tr>\n",
       "      <th>AAACGAACATACATCG_1</th>\n",
       "    </tr>\n",
       "    <tr>\n",
       "      <th>AAACGCTAGTCGAATA_1</th>\n",
       "    </tr>\n",
       "    <tr>\n",
       "      <th>...</th>\n",
       "    </tr>\n",
       "    <tr>\n",
       "      <th>TTTGTTGAGCGCAATG_3</th>\n",
       "    </tr>\n",
       "    <tr>\n",
       "      <th>TTTGTTGAGTGCTCAT_3</th>\n",
       "    </tr>\n",
       "    <tr>\n",
       "      <th>TTTGTTGCAATAAGGT_3</th>\n",
       "    </tr>\n",
       "    <tr>\n",
       "      <th>TTTGTTGCAATCGAAA_3</th>\n",
       "    </tr>\n",
       "    <tr>\n",
       "      <th>TTTGTTGCACCAGCCA_3</th>\n",
       "    </tr>\n",
       "  </tbody>\n",
       "</table>\n",
       "<p>10357 rows × 0 columns</p>\n",
       "</div>"
      ],
      "text/plain": [
       "Empty DataFrame\n",
       "Columns: []\n",
       "Index: [AAACCCAAGTGCACCC_1, AAACCCAGTGAGCTCC_1, AAACCCAGTTCTTAGG_1, AAACGAACATACATCG_1, AAACGCTAGTCGAATA_1, AAACGCTAGTTTAGGA_1, AAAGAACAGAAATTGC_1, AAAGAACAGAGGCGGA_1, AAAGAACCAGCGGATA_1, AAAGGATAGGAAAGTG_1, AAAGGATCAAACTCTG_1, AAAGGATCATTGCAAC_1, AAAGGATTCTACCACC_1, AAAGGGCAGGCGCTCT_1, AAAGGGCGTCAATCTG_1, AAAGGGCTCACTCACC_1, AAAGGGCTCCGTGGGT_1, AAAGGGCTCTGTGCTC_1, AAAGGTACACGACTAT_1, AAAGTCCAGAGGGCGA_1, AAAGTCCAGCTCTTCC_1, AAAGTCCAGCTTCTAG_1, AAAGTCCCACAAGCCC_1, AAAGTCCGTAGGTACG_1, AAAGTCCTCGCACGAC_1, AAAGTGAAGCGGTAAC_1, AAAGTGAAGCTTAGTC_1, AAAGTGAAGGTGCTGA_1, AAAGTGAGTGGCACTC_1, AAATGGAAGCACGATG_1, AAATGGAAGCGACAGT_1, AAATGGAAGGGTTTCT_1, AAATGGAAGTGATAGT_1, AACAAAGAGCGACATG_1, AACAAAGCAAGCAGGT_1, AACAAAGGTGAGTAGC_1, AACAAAGTCTGCGAGC_1, AACAACCAGACCCGCT_1, AACAACCAGACTACCT_1, AACAACCTCTATCACT_1, AACAAGAAGGCTAACG_1, AACAAGAAGTAACCTC_1, AACAAGACAAGACCTT_1, AACAAGAGTCAAAGCG_1, AACAAGAGTCGAAGCA_1, AACAAGAGTTCTCAGA_1, AACAAGATCGGTTCAA_1, AACAGGGAGCGACCCT_1, AACAGGGCAACGACTT_1, AACAGGGGTAGCTCGC_1, AACAGGGGTGTAAACA_1, AACAGGGGTTGGCCGT_1, AACAGGGTCATCGCAA_1, AACCAACCAATACGAA_1, AACCAACGTCTTTCAT_1, AACCACACACTACACA_1, AACCATGTCGAGAGCA_1, AACCCAAAGTAACAGT_1, AACCCAAGTCCTGTTC_1, AACCCAATCCCATGGG_1, AACCCAATCGTTCTAT_1, AACCTGACACGAAAGC_1, AACCTGAGTTTACACG_1, AACCTGATCTTGTTAC_1, AACCTTTTCATCTCTA_1, AACCTTTTCCGTCACT_1, AACCTTTTCTAGATCG_1, AACGAAAAGCTACAAA_1, AACGAAAGTCGGTACC_1, AACGAAATCGCTATTT_1, AACGAAATCTAGTACG_1, AACGGGATCGTGGGAA_1, AACGTCAGTTCGGCGT_1, AACGTCATCCGCAACG_1, AACTTCTCATGCAGGA_1, AACTTCTGTCGACGCT_1, AACTTCTGTTGGGAAC_1, AAGAACACAACACACT_1, AAGAACATCCGTATAG_1, AAGACAAAGGCGTCCT_1, AAGACAATCGCCTCTA_1, AAGACTCAGTACCCTA_1, AAGACTCCAATCGCAT_1, AAGACTCGTTGCTAGT_1, AAGATAGCAATCGTCA_1, AAGATAGCAGAAGCTG_1, AAGCATCGTCTTACTT_1, AAGCATCGTTCTCCAC_1, AAGCATCTCGCGATCG_1, AAGCCATCAATCCTTT_1, AAGCCATGTACTGAGG_1, AAGCGAGAGCCGAACA_1, AAGCGAGAGGTGCTAG_1, AAGCGAGCAACTACGT_1, AAGCGTTCATGCAGGA_1, AAGCGTTTCAACTTTC_1, AAGGAATAGCATCCTA_1, AAGGAATAGCCTGCCA_1, AAGGAATAGTACAGCG_1, AAGTACCCAGGACTTT_1, ...]\n",
       "\n",
       "[10357 rows x 0 columns]"
      ]
     },
     "execution_count": 10,
     "metadata": {},
     "output_type": "execute_result"
    }
   ],
   "source": [
    "# genes\n",
    "\n",
    "adata.var"
   ]
  },
  {
   "cell_type": "code",
   "execution_count": 11,
   "metadata": {},
   "outputs": [
    {
     "data": {
      "text/plain": [
       "array([[0., 0., 0., ..., 0., 0., 0.],\n",
       "       [0., 0., 0., ..., 0., 0., 0.],\n",
       "       [0., 0., 0., ..., 0., 0., 0.],\n",
       "       ...,\n",
       "       [0., 0., 0., ..., 0., 0., 0.],\n",
       "       [0., 0., 0., ..., 0., 0., 0.],\n",
       "       [0., 0., 0., ..., 0., 0., 0.]], dtype=float32)"
      ]
     },
     "execution_count": 11,
     "metadata": {},
     "output_type": "execute_result"
    }
   ],
   "source": [
    "adata.X"
   ]
  },
  {
   "cell_type": "code",
   "execution_count": null,
   "metadata": {},
   "outputs": [],
   "source": [
    "# Note: description of object is not the same as with h5ad files. Incorrect?"
   ]
  },
  {
   "cell_type": "markdown",
   "metadata": {},
   "source": []
  }
 ],
 "metadata": {
  "kernelspec": {
   "display_name": "scanpy_local",
   "language": "python",
   "name": "python3"
  },
  "language_info": {
   "codemirror_mode": {
    "name": "ipython",
    "version": 3
   },
   "file_extension": ".py",
   "mimetype": "text/x-python",
   "name": "python",
   "nbconvert_exporter": "python",
   "pygments_lexer": "ipython3",
   "version": "3.9.16 | packaged by conda-forge | (main, Feb  1 2023, 21:38:11) \n[Clang 14.0.6 ]"
  },
  "orig_nbformat": 4,
  "vscode": {
   "interpreter": {
    "hash": "ffd69a565c8d7e2e7368c81b440bbdab965f91e21d81cb98f1cffcbf22a73be4"
   }
  }
 },
 "nbformat": 4,
 "nbformat_minor": 2
}
