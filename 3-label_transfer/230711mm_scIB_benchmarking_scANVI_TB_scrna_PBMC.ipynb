{
 "cells": [
  {
   "cell_type": "markdown",
   "metadata": {},
   "source": [
    "### scIB benchmarking of scANVI label transfer TB scRNA-seq PBMC data\n",
    "\n",
    "**Objective**: Compute scIB benchmark metrics for scVI/scANVI model \n",
    "\n",
    "- **Developed by**: Mairi McClean\n",
    "- **Affiliation**: Institute of Computational Biology, Computational Health Centre\n",
    "- v230711 \n"
   ]
  },
  {
   "cell_type": "code",
   "execution_count": null,
   "metadata": {},
   "outputs": [],
   "source": []
  }
 ],
 "metadata": {
  "language_info": {
   "name": "python"
  },
  "orig_nbformat": 4
 },
 "nbformat": 4,
 "nbformat_minor": 2
}
