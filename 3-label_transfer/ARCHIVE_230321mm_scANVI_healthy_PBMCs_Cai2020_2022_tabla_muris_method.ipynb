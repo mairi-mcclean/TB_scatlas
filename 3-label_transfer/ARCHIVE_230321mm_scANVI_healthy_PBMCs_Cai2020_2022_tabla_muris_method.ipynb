{
 "cells": [
  {
   "attachments": {},
   "cell_type": "markdown",
   "metadata": {},
   "source": [
    "## scANVI analysis for healthy PBMC pilot study (Cai 2020 and Cai 2022)\n",
    "\n",
    "**Objective**: Run scANVI analysis for label transfer for healthy PBMCs [Cai 2020 and Cai 2022]\n",
    "\n",
    "\n",
    "- **Developed by**: Mairi McClean\n",
    "\n",
    "- **Institute of Computational Biology - Computational Health Centre - Helmholtz Munich**\n",
    "\n",
    "- v230321\n",
    "\n",
    "- Following this tutorial [Tabla Muris]: https://docs.scvi-tools.org/en/stable/tutorials/notebooks/tabula_muris.html\n",
    "\n"
   ]
  },
  {
   "attachments": {},
   "cell_type": "markdown",
   "metadata": {},
   "source": [
    "### Import modules\n"
   ]
  },
  {
   "cell_type": "code",
   "execution_count": null,
   "metadata": {},
   "outputs": [],
   "source": [
    "!pip install --quiet scvi-colab\n",
    "from scvi_colab import install\n",
    "\n",
    "install()"
   ]
  },
  {
   "cell_type": "code",
   "execution_count": null,
   "metadata": {},
   "outputs": [],
   "source": [
    "import matplotlib.pyplot as plt\n",
    "import numpy as np\n",
    "import pandas as pd\n",
    "import scanpy as sc\n",
    "import scvi\n",
    "from scvi.model.utils import mde"
   ]
  },
  {
   "cell_type": "code",
   "execution_count": null,
   "metadata": {},
   "outputs": [],
   "source": [
    "sc.set_figure_params(figsize=(4, 4))\n",
    "\n",
    "%config InlineBackend.print_figure_kwargs={'facecolor' : \"w\"}\n",
    "%config InlineBackend.figure_format='retina'"
   ]
  },
  {
   "attachments": {},
   "cell_type": "markdown",
   "metadata": {},
   "source": [
    "### Read in datasets"
   ]
  },
  {
   "cell_type": "code",
   "execution_count": null,
   "metadata": {},
   "outputs": [],
   "source": [
    "reference = sc.read('/Volumes/Lacie/data_lake/Mairi_example/INBOX/sc_downloads/yoshida_2021/meyer_nikolic_covid_pbmc.cellxgene.20210813.h5ad')\n",
    "query = sc.read('/Volumes/Lacie/data_lake/Mairi_example/processed_files/scvi/post_sccaf/CaiY_healthy_scRNA_PBMC_mm230316_scVI-clustered.raw.h5ad')"
   ]
  },
  {
   "cell_type": "raw",
   "metadata": {},
   "source": [
    "#### Subset reference dataset to only include healthy samples"
   ]
  },
  {
   "cell_type": "raw",
   "metadata": {},
   "source": [
    "reference.obs['COVID_status'].value_counts()"
   ]
  },
  {
   "cell_type": "raw",
   "metadata": {},
   "source": [
    "reference_new = adata_ref[~adata_ref.obs['COVID_status'].isin(['COVID-19', 'Post-COVID-19']),:]\n",
    "reference_new"
   ]
  },
  {
   "cell_type": "raw",
   "metadata": {},
   "source": [
    "reference_new.obs['COVID_status'].value_counts()"
   ]
  },
  {
   "attachments": {},
   "cell_type": "markdown",
   "metadata": {},
   "source": [
    "### Dataset concatenation and HVG selection"
   ]
  },
  {
   "cell_type": "code",
   "execution_count": null,
   "metadata": {},
   "outputs": [],
   "source": [
    "adata = reference.concatenate(query)\n",
    "adata.layers[\"counts\"] = adata.X.copy()\n",
    "sc.pp.normalize_total(adata, target_sum=1e4)\n",
    "sc.pp.log1p(adata)\n",
    "adata.raw = adata  # keep full dimension safe\n",
    "sc.pp.highly_variable_genes(\n",
    "    adata,\n",
    "    flavor=\"seurat_v3\",\n",
    "    n_top_genes=2000,\n",
    "    layer=\"counts\",\n",
    "    batch_key=\"sequencing_library\",\n",
    "    subset=True,\n",
    ")"
   ]
  },
  {
   "cell_type": "code",
   "execution_count": null,
   "metadata": {},
   "outputs": [],
   "source": [
    "scvi.model.SCVI.setup_anndata(adata, layer=\"counts\", batch_key=\"sequencing_library\")"
   ]
  },
  {
   "cell_type": "raw",
   "metadata": {},
   "source": [
    "vae = scvi.model.SCVI(adata, n_layers=2, n_latent=30)"
   ]
  },
  {
   "cell_type": "raw",
   "metadata": {},
   "source": [
    "vae.train()"
   ]
  },
  {
   "cell_type": "raw",
   "metadata": {},
   "source": [
    "adata.obsm[\"X_scVI\"] = vae.get_latent_representation()"
   ]
  },
  {
   "cell_type": "raw",
   "metadata": {},
   "source": [
    "adata.obsm[\"X_mde\"] = mde(adata.obsm[\"X_scVI\"])"
   ]
  },
  {
   "cell_type": "raw",
   "metadata": {},
   "source": [
    "sc.pl.embedding(\n",
    "    adata,\n",
    "    basis=\"X_mde\",\n",
    "    color=[\"tech\"],\n",
    "    frameon=False,\n",
    "    ncols=1,\n",
    ")"
   ]
  },
  {
   "cell_type": "raw",
   "metadata": {},
   "source": [
    "sc.pl.embedding(adata, color=\"cell_ontology_class\", frameon=False, basis=\"X_mde\")"
   ]
  },
  {
   "attachments": {},
   "cell_type": "markdown",
   "metadata": {},
   "source": [
    "### Transfer of annotations using scANVI\n",
    "\n",
    "scANVI uses semi-supervised learning to improve the model learned with scVI, allowing us to transfer our cell type knowledge from the reference to the query data. For this, we simply need to indicate to scANVI:\n",
    "\n",
    "> the sample identifier for each cell (as in scVI), which in this case is the technology (10x vs SS2)\n",
    "> the cell type, or an unnassigned label for each cell"
   ]
  },
  {
   "cell_type": "raw",
   "metadata": {},
   "source": [
    "adata.obs[\"celltype_scanvi\"] = \"Unknown\"\n",
    "ss2_mask = adata.obs[\"tech\"] == \"SS2\"\n",
    "adata.obs[\"celltype_scanvi\"][ss2_mask] = adata.obs.cell_ontology_class[ss2_mask].values"
   ]
  },
  {
   "cell_type": "raw",
   "metadata": {},
   "source": [
    "np.unique(adata.obs[\"celltype_scanvi\"], return_counts=True)"
   ]
  },
  {
   "cell_type": "raw",
   "metadata": {},
   "source": [
    "lvae = scvi.model.SCANVI.from_scvi_model(\n",
    "    vae,\n",
    "    adata=adata,\n",
    "    unlabeled_category=\"Unknown\",\n",
    "    labels_key=\"celltype_scanvi\",\n",
    ")"
   ]
  },
  {
   "cell_type": "raw",
   "metadata": {},
   "source": [
    "lvae.train(max_epochs=20, n_samples_per_label=100)"
   ]
  },
  {
   "cell_type": "raw",
   "metadata": {},
   "source": [
    "adata.obs[\"C_scANVI\"] = lvae.predict(adata)\n",
    "adata.obsm[\"X_scANVI\"] = lvae.get_latent_representation(adata)"
   ]
  },
  {
   "cell_type": "raw",
   "metadata": {},
   "source": [
    "adata.obsm[\"X_mde_scanvi\"] = mde(adata.obsm[\"X_scANVI\"])"
   ]
  },
  {
   "cell_type": "raw",
   "metadata": {},
   "source": [
    "# in order to make colors matchup\n",
    "adata.obs.C_scANVI = pd.Categorical(\n",
    "    adata.obs.C_scANVI.values, categories=adata.obs.cell_ontology_class.cat.categories\n",
    ")\n",
    "sc.pl.embedding(\n",
    "    adata,\n",
    "    basis=\"X_mde_scanvi\",\n",
    "    color=[\"cell_ontology_class\", \"C_scANVI\"],\n",
    "    ncols=1,\n",
    "    frameon=False,\n",
    "    palette=adata.uns[\"cell_ontology_class_colors\"],\n",
    ")"
   ]
  },
  {
   "attachments": {},
   "cell_type": "markdown",
   "metadata": {},
   "source": [
    "#### Confusion matrix"
   ]
  },
  {
   "cell_type": "raw",
   "metadata": {},
   "source": [
    "df = adata.obs.groupby([\"cell_ontology_class\", \"C_scANVI\"]).size().unstack(fill_value=0)"
   ]
  },
  {
   "cell_type": "raw",
   "metadata": {},
   "source": [
    "conf_mat = df / df.sum(axis=1).values[:, np.newaxis]"
   ]
  },
  {
   "cell_type": "raw",
   "metadata": {},
   "source": [
    "plt.figure(figsize=(8, 8))\n",
    "_ = plt.pcolor(conf_mat)\n",
    "_ = plt.xticks(np.arange(0.5, len(df.columns), 1), df.columns, rotation=90)\n",
    "_ = plt.yticks(np.arange(0.5, len(df.index), 1), df.index)\n",
    "plt.xlabel(\"Predicted\")\n",
    "plt.ylabel(\"Observed\")"
   ]
  }
 ],
 "metadata": {
  "kernelspec": {
   "display_name": "scanvi_local",
   "language": "python",
   "name": "python3"
  },
  "language_info": {
   "name": "python",
   "version": "3.10.9"
  },
  "orig_nbformat": 4
 },
 "nbformat": 4,
 "nbformat_minor": 2
}
